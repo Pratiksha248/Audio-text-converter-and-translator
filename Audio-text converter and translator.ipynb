{
 "cells": [
  {
   "cell_type": "code",
   "execution_count": 58,
   "id": "b8537319",
   "metadata": {},
   "outputs": [
    {
     "name": "stdout",
     "output_type": "stream",
     "text": [
      "Listening...\n",
      "Recognizing...\n",
      "Recognized text (default language):\n",
      "biggest year\n",
      "Recognized text (translated language):\n",
      "biggest year\n"
     ]
    }
   ],
   "source": [
    "#Speech-text\n",
    "import speech_recognition as sr\n",
    "from deep_translator import GoogleTranslator\n",
    "r = sr.Recognizer()\n",
    "mic = sr.Microphone(device_index=1)\n",
    "with mic as source:\n",
    "        print(\"Listening...\")\n",
    "        r.adjust_for_ambient_noise(source)\n",
    "        audio = r.listen(source)\n",
    "        print(\"Recognizing...\")\n",
    "        #Recognize speech using the Google Web Speech API\n",
    "        text = r.recognize_google(audio)\n",
    "        print(\"Recognized text (default language):\")\n",
    "        print(text)\n",
    "        # Translate speech in your desired language\n",
    "        text_lang = GoogleTranslator(source='auto', target='en').translate(text)\n",
    "        print(f\"Recognized text (translated language):\")\n",
    "        print(text_lang)"
   ]
  },
  {
   "cell_type": "code",
   "execution_count": 56,
   "id": "3d0ccf25",
   "metadata": {},
   "outputs": [],
   "source": [
    "#Text-speech\n",
    "from win32com.client import constants, Dispatch\n",
    "Msg = \"Ola, como estas!\"\n",
    "speaker = Dispatch(\"SAPI.SpVoice\")\n",
    "speaker.Speak(Msg)\n",
    "del speaker"
   ]
  }
 ],
 "metadata": {
  "kernelspec": {
   "display_name": "Python 3 (ipykernel)",
   "language": "python",
   "name": "python3"
  },
  "language_info": {
   "codemirror_mode": {
    "name": "ipython",
    "version": 3
   },
   "file_extension": ".py",
   "mimetype": "text/x-python",
   "name": "python",
   "nbconvert_exporter": "python",
   "pygments_lexer": "ipython3",
   "version": "3.9.13"
  }
 },
 "nbformat": 4,
 "nbformat_minor": 5
}
